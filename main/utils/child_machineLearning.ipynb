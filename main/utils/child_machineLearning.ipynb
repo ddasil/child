{
 "cells": [
  {
   "cell_type": "code",
   "execution_count": 12,
   "metadata": {},
   "outputs": [],
   "source": [
    "# ===머신러닝====\n",
    "import pickle\n",
    "import pandas as pd\n",
    "from sklearn.model_selection import train_test_split\n",
    "from sklearn.tree import DecisionTreeClassifier\n",
    "from sklearn.metrics import accuracy_score\n"
   ]
  },
  {
   "cell_type": "code",
   "execution_count": 13,
   "metadata": {},
   "outputs": [
    {
     "name": "stdout",
     "output_type": "stream",
     "text": [
      "Accuracy: 0.9525\n",
      "모델이 성공적으로 저장되었습니다.\n"
     ]
    }
   ],
   "source": [
    "import pandas as pd\n",
    "\n",
    "# def load_dataset():\n",
    "\n",
    "#    # 현재 파일(child.py)의 경로를 기준으로 데이터셋 경로를 생성\n",
    "#     current_path = os.path.dirname(__file__)  # utils 폴더 경로\n",
    "#     dataset_path = os.path.join(current_path, '../datasets/child_abuse_dataset_0_7.csv')  # datasets 폴더 내 파일\n",
    "#     try:\n",
    "#         df = pd.read_csv(dataset_path)  # 데이터 로드\n",
    "\n",
    "\n",
    "# 데이터 로드\n",
    "df = pd.read_csv(\"../datasets/child_abuse_dataset_0_7.csv\")\n",
    "\n",
    "# gender 컬럼 타입 변환 (object > int)\n",
    "df['gender'] = df['gender'].map({'Male': 0, 'Female': 1})\n",
    "\n",
    "# x,y 설정\n",
    "X = df.iloc[:, :-1]\n",
    "y = df['child_abuse_detected']\n",
    "\n",
    "#데이터 분리(Dataset Partitioning)\n",
    "X_train, X_test, y_train, y_test = train_test_split(X, y, test_size=0.2)\n",
    "\n",
    "# 모델 만들기\n",
    "model = DecisionTreeClassifier(max_depth=5, random_state=42)  # 과적합 방지 위해 max_depth 설정)\n",
    "\n",
    "#훈련\n",
    "model.fit(X_train,y_train)\n",
    "\n",
    "# 예측\n",
    "preds = model.predict(X_test)\n",
    "\n",
    "#평가\n",
    "accuracy = accuracy_score(y_test, preds)\n",
    "print(f\"Accuracy: {accuracy}\")\n",
    "\n",
    "# 모델 저장\n",
    "with open('ml_model.pkl', 'wb') as f:\n",
    "    pickle.dump(model, f)\n",
    "\n",
    "print(\"모델이 성공적으로 저장되었습니다.\")"
   ]
  },
  {
   "cell_type": "code",
   "execution_count": 21,
   "metadata": {},
   "outputs": [
    {
     "data": {
      "text/plain": [
       "(10,)"
      ]
     },
     "execution_count": 21,
     "metadata": {},
     "output_type": "execute_result"
    }
   ],
   "source": [
    "X_test.iloc[0].shape"
   ]
  },
  {
   "cell_type": "code",
   "execution_count": null,
   "metadata": {},
   "outputs": [],
   "source": []
  }
 ],
 "metadata": {
  "kernelspec": {
   "display_name": ".venv",
   "language": "python",
   "name": "python3"
  },
  "language_info": {
   "codemirror_mode": {
    "name": "ipython",
    "version": 3
   },
   "file_extension": ".py",
   "mimetype": "text/x-python",
   "name": "python",
   "nbconvert_exporter": "python",
   "pygments_lexer": "ipython3",
   "version": "3.9.13"
  }
 },
 "nbformat": 4,
 "nbformat_minor": 2
}
