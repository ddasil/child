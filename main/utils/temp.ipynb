{
 "cells": [
  {
   "cell_type": "code",
   "execution_count": null,
   "metadata": {},
   "outputs": [],
   "source": [
    "import pickle\n",
    "import os\n",
    "\n",
    "def load_model():\n",
    "    # 모델 파일 경로 설정\n",
    "    current_path = os.path.dirname(__file__)\n",
    "    model_path = os.path.join(current_path, 'ml_model.pkl')\n",
    "    \n",
    "    # 모델 로드\n",
    "    with open(model_path, 'rb') as f:\n",
    "        model = pickle.load(f)\n",
    "    return model\n",
    "\n",
    "def predict(input_data):\n",
    "    # 저장된 모델 로드 후 예측 실행\n",
    "    model = load_model()\n",
    "    prediction = model.predict(input_data)\n",
    "    return prediction\n",
    "\n"
   ]
  },
  {
   "cell_type": "code",
   "execution_count": null,
   "metadata": {},
   "outputs": [],
   "source": [
    "import pickle\n",
    "import numpy as np\n",
    "\n",
    "def load_model():\n",
    "    with open(\"ml_model.pkl\", \"rb\") as file:\n",
    "        model = pickle.load(file)\n",
    "    return model\n",
    "\n",
    "def encode_feature(value, mapping):\n",
    "    \"\"\"카테고리 값을 숫자로 변환하는 함수\"\"\"\n",
    "    return mapping.get(value, 0)\n",
    "\n",
    "def predict_abuse(gender, age, bruise, fracture, malnutrition, hygiene, \n",
    "                  head_injury, self_harm, domestic_violence, abuse_reports):\n",
    "    model = load_model()\n",
    "\n",
    "    # 카테고리 변환\n",
    "    gender = 1 if gender == \"male\" else 0\n",
    "    bruise = encode_feature(bruise, {\"none\": 0, \"yes\": 1})\n",
    "    malnutrition = encode_feature(malnutrition, {\"none\": 0, \"yes\": 1})\n",
    "    hygiene = encode_feature(hygiene, {\"poor\": 0, \"clean\": 1})\n",
    "    head_injury = encode_feature(head_injury, {\"none\": 0, \"yes\": 1})\n",
    "    self_harm = encode_feature(self_harm, {\"none\": 0, \"yes\": 1})\n",
    "    domestic_violence = encode_feature(domestic_violence, {\"none\": 0, \"yes\": 1})\n",
    "\n",
    "    # 입력 데이터 배열 생성\n",
    "    input_data = np.array([[gender, age, bruise, fracture, malnutrition, hygiene,\n",
    "                             head_injury, self_harm, domestic_violence, abuse_reports]])\n",
    "\n",
    "    # 확률 예측 (예측값이 1일 확률)\n",
    "    probability = model.predict_proba(input_data)[0, 1] * 100\n",
    "    return round(probability, 2)  # 소수점 2자리까지 반올림"
   ]
  }
 ],
 "metadata": {
  "kernelspec": {
   "display_name": ".venv",
   "language": "python",
   "name": "python3"
  },
  "language_info": {
   "name": "python",
   "version": "3.9.13"
  }
 },
 "nbformat": 4,
 "nbformat_minor": 2
}
